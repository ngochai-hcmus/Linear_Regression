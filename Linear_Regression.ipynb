{
 "cells": [
  {
   "cell_type": "markdown",
   "id": "a34412ac",
   "metadata": {},
   "source": [
    "## Import thư viện"
   ]
  },
  {
   "cell_type": "code",
   "execution_count": 1,
   "id": "fbca58d7",
   "metadata": {},
   "outputs": [],
   "source": [
    "import numpy as np\n",
    "import pandas as pd\n",
    "import matplotlib.pyplot as plt\n",
    "from sklearn import model_selection\n",
    "from sklearn.linear_model import LinearRegression\n",
    "from sklearn.metrics import mean_squared_error as mser\n",
    "from sklearn.model_selection import KFold, train_test_split"
   ]
  },
  {
   "cell_type": "markdown",
   "id": "ba802856",
   "metadata": {},
   "source": [
    "## Đọc dữ liệu"
   ]
  },
  {
   "cell_type": "code",
   "execution_count": 2,
   "id": "46052871",
   "metadata": {
    "scrolled": true
   },
   "outputs": [
    {
     "data": {
      "text/html": [
       "<div>\n",
       "<style scoped>\n",
       "    .dataframe tbody tr th:only-of-type {\n",
       "        vertical-align: middle;\n",
       "    }\n",
       "\n",
       "    .dataframe tbody tr th {\n",
       "        vertical-align: top;\n",
       "    }\n",
       "\n",
       "    .dataframe thead th {\n",
       "        text-align: right;\n",
       "    }\n",
       "</style>\n",
       "<table border=\"1\" class=\"dataframe\">\n",
       "  <thead>\n",
       "    <tr style=\"text-align: right;\">\n",
       "      <th></th>\n",
       "      <th>fixed acidity</th>\n",
       "      <th>volatile acidity</th>\n",
       "      <th>citric acid</th>\n",
       "      <th>residual sugar</th>\n",
       "      <th>chlorides</th>\n",
       "      <th>free sulfur dioxide</th>\n",
       "      <th>total sulfur dioxide</th>\n",
       "      <th>density</th>\n",
       "      <th>pH</th>\n",
       "      <th>sulphates</th>\n",
       "      <th>alcohol</th>\n",
       "      <th>quality</th>\n",
       "    </tr>\n",
       "  </thead>\n",
       "  <tbody>\n",
       "    <tr>\n",
       "      <th>0</th>\n",
       "      <td>7.4</td>\n",
       "      <td>0.700</td>\n",
       "      <td>0.00</td>\n",
       "      <td>1.9</td>\n",
       "      <td>0.076</td>\n",
       "      <td>11.0</td>\n",
       "      <td>34</td>\n",
       "      <td>0.99780</td>\n",
       "      <td>3.51</td>\n",
       "      <td>0.56</td>\n",
       "      <td>9.4</td>\n",
       "      <td>5</td>\n",
       "    </tr>\n",
       "    <tr>\n",
       "      <th>1</th>\n",
       "      <td>7.8</td>\n",
       "      <td>0.880</td>\n",
       "      <td>0.00</td>\n",
       "      <td>2.6</td>\n",
       "      <td>0.098</td>\n",
       "      <td>25.0</td>\n",
       "      <td>67</td>\n",
       "      <td>0.99680</td>\n",
       "      <td>3.20</td>\n",
       "      <td>0.68</td>\n",
       "      <td>9.8</td>\n",
       "      <td>5</td>\n",
       "    </tr>\n",
       "    <tr>\n",
       "      <th>2</th>\n",
       "      <td>7.8</td>\n",
       "      <td>0.760</td>\n",
       "      <td>0.04</td>\n",
       "      <td>2.3</td>\n",
       "      <td>0.092</td>\n",
       "      <td>15.0</td>\n",
       "      <td>54</td>\n",
       "      <td>0.99700</td>\n",
       "      <td>3.26</td>\n",
       "      <td>0.65</td>\n",
       "      <td>9.8</td>\n",
       "      <td>5</td>\n",
       "    </tr>\n",
       "    <tr>\n",
       "      <th>3</th>\n",
       "      <td>11.2</td>\n",
       "      <td>0.280</td>\n",
       "      <td>0.56</td>\n",
       "      <td>1.9</td>\n",
       "      <td>0.075</td>\n",
       "      <td>17.0</td>\n",
       "      <td>60</td>\n",
       "      <td>0.99800</td>\n",
       "      <td>3.16</td>\n",
       "      <td>0.58</td>\n",
       "      <td>9.8</td>\n",
       "      <td>6</td>\n",
       "    </tr>\n",
       "    <tr>\n",
       "      <th>4</th>\n",
       "      <td>7.4</td>\n",
       "      <td>0.700</td>\n",
       "      <td>0.00</td>\n",
       "      <td>1.9</td>\n",
       "      <td>0.076</td>\n",
       "      <td>11.0</td>\n",
       "      <td>34</td>\n",
       "      <td>0.99780</td>\n",
       "      <td>3.51</td>\n",
       "      <td>0.56</td>\n",
       "      <td>9.4</td>\n",
       "      <td>5</td>\n",
       "    </tr>\n",
       "    <tr>\n",
       "      <th>...</th>\n",
       "      <td>...</td>\n",
       "      <td>...</td>\n",
       "      <td>...</td>\n",
       "      <td>...</td>\n",
       "      <td>...</td>\n",
       "      <td>...</td>\n",
       "      <td>...</td>\n",
       "      <td>...</td>\n",
       "      <td>...</td>\n",
       "      <td>...</td>\n",
       "      <td>...</td>\n",
       "      <td>...</td>\n",
       "    </tr>\n",
       "    <tr>\n",
       "      <th>1194</th>\n",
       "      <td>7.0</td>\n",
       "      <td>0.745</td>\n",
       "      <td>0.12</td>\n",
       "      <td>1.8</td>\n",
       "      <td>0.114</td>\n",
       "      <td>15.0</td>\n",
       "      <td>64</td>\n",
       "      <td>0.99588</td>\n",
       "      <td>3.22</td>\n",
       "      <td>0.59</td>\n",
       "      <td>9.5</td>\n",
       "      <td>6</td>\n",
       "    </tr>\n",
       "    <tr>\n",
       "      <th>1195</th>\n",
       "      <td>6.2</td>\n",
       "      <td>0.430</td>\n",
       "      <td>0.22</td>\n",
       "      <td>1.8</td>\n",
       "      <td>0.078</td>\n",
       "      <td>21.0</td>\n",
       "      <td>56</td>\n",
       "      <td>0.99633</td>\n",
       "      <td>3.52</td>\n",
       "      <td>0.60</td>\n",
       "      <td>9.5</td>\n",
       "      <td>6</td>\n",
       "    </tr>\n",
       "    <tr>\n",
       "      <th>1196</th>\n",
       "      <td>7.9</td>\n",
       "      <td>0.580</td>\n",
       "      <td>0.23</td>\n",
       "      <td>2.3</td>\n",
       "      <td>0.076</td>\n",
       "      <td>23.0</td>\n",
       "      <td>94</td>\n",
       "      <td>0.99686</td>\n",
       "      <td>3.21</td>\n",
       "      <td>0.58</td>\n",
       "      <td>9.5</td>\n",
       "      <td>6</td>\n",
       "    </tr>\n",
       "    <tr>\n",
       "      <th>1197</th>\n",
       "      <td>7.7</td>\n",
       "      <td>0.570</td>\n",
       "      <td>0.21</td>\n",
       "      <td>1.5</td>\n",
       "      <td>0.069</td>\n",
       "      <td>4.0</td>\n",
       "      <td>9</td>\n",
       "      <td>0.99458</td>\n",
       "      <td>3.16</td>\n",
       "      <td>0.54</td>\n",
       "      <td>9.8</td>\n",
       "      <td>6</td>\n",
       "    </tr>\n",
       "    <tr>\n",
       "      <th>1198</th>\n",
       "      <td>7.7</td>\n",
       "      <td>0.260</td>\n",
       "      <td>0.26</td>\n",
       "      <td>2.0</td>\n",
       "      <td>0.052</td>\n",
       "      <td>19.0</td>\n",
       "      <td>77</td>\n",
       "      <td>0.99510</td>\n",
       "      <td>3.15</td>\n",
       "      <td>0.79</td>\n",
       "      <td>10.9</td>\n",
       "      <td>6</td>\n",
       "    </tr>\n",
       "  </tbody>\n",
       "</table>\n",
       "<p>1199 rows × 12 columns</p>\n",
       "</div>"
      ],
      "text/plain": [
       "      fixed acidity  volatile acidity  citric acid  residual sugar  chlorides  \\\n",
       "0               7.4             0.700         0.00             1.9      0.076   \n",
       "1               7.8             0.880         0.00             2.6      0.098   \n",
       "2               7.8             0.760         0.04             2.3      0.092   \n",
       "3              11.2             0.280         0.56             1.9      0.075   \n",
       "4               7.4             0.700         0.00             1.9      0.076   \n",
       "...             ...               ...          ...             ...        ...   \n",
       "1194            7.0             0.745         0.12             1.8      0.114   \n",
       "1195            6.2             0.430         0.22             1.8      0.078   \n",
       "1196            7.9             0.580         0.23             2.3      0.076   \n",
       "1197            7.7             0.570         0.21             1.5      0.069   \n",
       "1198            7.7             0.260         0.26             2.0      0.052   \n",
       "\n",
       "      free sulfur dioxide  total sulfur dioxide  density    pH  sulphates  \\\n",
       "0                    11.0                    34  0.99780  3.51       0.56   \n",
       "1                    25.0                    67  0.99680  3.20       0.68   \n",
       "2                    15.0                    54  0.99700  3.26       0.65   \n",
       "3                    17.0                    60  0.99800  3.16       0.58   \n",
       "4                    11.0                    34  0.99780  3.51       0.56   \n",
       "...                   ...                   ...      ...   ...        ...   \n",
       "1194                 15.0                    64  0.99588  3.22       0.59   \n",
       "1195                 21.0                    56  0.99633  3.52       0.60   \n",
       "1196                 23.0                    94  0.99686  3.21       0.58   \n",
       "1197                  4.0                     9  0.99458  3.16       0.54   \n",
       "1198                 19.0                    77  0.99510  3.15       0.79   \n",
       "\n",
       "      alcohol  quality  \n",
       "0         9.4        5  \n",
       "1         9.8        5  \n",
       "2         9.8        5  \n",
       "3         9.8        6  \n",
       "4         9.4        5  \n",
       "...       ...      ...  \n",
       "1194      9.5        6  \n",
       "1195      9.5        6  \n",
       "1196      9.5        6  \n",
       "1197      9.8        6  \n",
       "1198     10.9        6  \n",
       "\n",
       "[1199 rows x 12 columns]"
      ]
     },
     "execution_count": 2,
     "metadata": {},
     "output_type": "execute_result"
    }
   ],
   "source": [
    "url = \"https://raw.githubusercontent.com/ngochai-hcmus/Linear_Regression/main/wine.csv\"\n",
    "df = pd.read_csv(url, sep=';')\n",
    "df"
   ]
  },
  {
   "cell_type": "markdown",
   "id": "c9f82ecc",
   "metadata": {},
   "source": [
    "## Tách dữ liệu"
   ]
  },
  {
   "cell_type": "code",
   "execution_count": 3,
   "id": "fdfed44f",
   "metadata": {},
   "outputs": [],
   "source": [
    "x_cols = ['fixed acidity', 'volatile acidity', 'citric acid', 'residual sugar',\n",
    "          'chlorides', 'free sulfur dioxide', 'total sulfur dioxide', 'density',\n",
    "          'pH', 'sulphates', 'alcohol']\n",
    "y_cols = ['quality']"
   ]
  },
  {
   "cell_type": "code",
   "execution_count": 4,
   "id": "01fc9089",
   "metadata": {},
   "outputs": [
    {
     "data": {
      "text/plain": [
       "array([[ 7.4 ,  0.7 ,  0.  , ...,  3.51,  0.56,  9.4 ],\n",
       "       [ 7.8 ,  0.88,  0.  , ...,  3.2 ,  0.68,  9.8 ],\n",
       "       [ 7.8 ,  0.76,  0.04, ...,  3.26,  0.65,  9.8 ],\n",
       "       ...,\n",
       "       [ 7.9 ,  0.58,  0.23, ...,  3.21,  0.58,  9.5 ],\n",
       "       [ 7.7 ,  0.57,  0.21, ...,  3.16,  0.54,  9.8 ],\n",
       "       [ 7.7 ,  0.26,  0.26, ...,  3.15,  0.79, 10.9 ]])"
      ]
     },
     "execution_count": 4,
     "metadata": {},
     "output_type": "execute_result"
    }
   ],
   "source": [
    "X = df[x_cols].values\n",
    "X"
   ]
  },
  {
   "cell_type": "code",
   "execution_count": 5,
   "id": "ea88bc03",
   "metadata": {},
   "outputs": [
    {
     "data": {
      "text/plain": [
       "array([[5],\n",
       "       [5],\n",
       "       [5],\n",
       "       ...,\n",
       "       [6],\n",
       "       [6],\n",
       "       [6]], dtype=int64)"
      ]
     },
     "execution_count": 5,
     "metadata": {},
     "output_type": "execute_result"
    }
   ],
   "source": [
    "y_label = df.quality\n",
    "y = df[y_cols].values\n",
    "y"
   ]
  },
  {
   "cell_type": "markdown",
   "id": "97c83214",
   "metadata": {},
   "source": [
    "## Câu a: Xây dựng mô hình sử dụng toàn bộ 11 đặc trưng\n",
    "## y=theta_1x_1+theta_2x_2+...+theta_11x_11"
   ]
  },
  {
   "cell_type": "code",
   "execution_count": 6,
   "id": "78a23773",
   "metadata": {},
   "outputs": [],
   "source": [
    "def fitting(A,b):\n",
    "    AT = np.transpose(A)\n",
    "    theta = np.matmul(np.linalg.inv(np.matmul(AT,A)), np.matmul(AT,b))\n",
    "    return theta"
   ]
  },
  {
   "cell_type": "code",
   "execution_count": 7,
   "id": "996d61df",
   "metadata": {},
   "outputs": [
    {
     "data": {
      "text/plain": [
       "array([[ 5.92516137e-03],\n",
       "       [-1.10803754e+00],\n",
       "       [-2.63046284e-01],\n",
       "       [ 1.53222831e-02],\n",
       "       [-1.73050274e+00],\n",
       "       [ 3.80141908e-03],\n",
       "       [-3.89899869e-03],\n",
       "       [ 4.33858768e+00],\n",
       "       [-4.58535475e-01],\n",
       "       [ 7.29718662e-01],\n",
       "       [ 3.08858648e-01]])"
      ]
     },
     "execution_count": 7,
     "metadata": {},
     "output_type": "execute_result"
    }
   ],
   "source": [
    "fitting(X,y)"
   ]
  },
  {
   "cell_type": "markdown",
   "id": "e8196ddd",
   "metadata": {},
   "source": [
    "## Model y = 0.00592516137X1 - 1.10803754X2 -0.263046284X3 + 0.0153222831X4 - 1.73050274X5 + 0.00380141908X6 - 0.00389899869X7 + 4.33858768X8 - 0.458535475X9 + 0.729718662X10 + 0.308858648X11"
   ]
  },
  {
   "cell_type": "markdown",
   "id": "88869e52",
   "metadata": {},
   "source": [
    "## Câu b: Xây dựng mô hình sử dụng 1 đặc trưng cho kết quả tốt nhất (Phương pháp Cross Validation)"
   ]
  },
  {
   "cell_type": "code",
   "execution_count": 8,
   "id": "2f88906a",
   "metadata": {},
   "outputs": [
    {
     "data": {
      "text/html": [
       "<div>\n",
       "<style scoped>\n",
       "    .dataframe tbody tr th:only-of-type {\n",
       "        vertical-align: middle;\n",
       "    }\n",
       "\n",
       "    .dataframe tbody tr th {\n",
       "        vertical-align: top;\n",
       "    }\n",
       "\n",
       "    .dataframe thead th {\n",
       "        text-align: right;\n",
       "    }\n",
       "</style>\n",
       "<table border=\"1\" class=\"dataframe\">\n",
       "  <thead>\n",
       "    <tr style=\"text-align: right;\">\n",
       "      <th></th>\n",
       "      <th>Feature</th>\n",
       "      <th>Error</th>\n",
       "    </tr>\n",
       "  </thead>\n",
       "  <tbody>\n",
       "    <tr>\n",
       "      <th>0</th>\n",
       "      <td>fixed acidity</td>\n",
       "      <td>0.655508</td>\n",
       "    </tr>\n",
       "    <tr>\n",
       "      <th>1</th>\n",
       "      <td>volatile acidity</td>\n",
       "      <td>0.571412</td>\n",
       "    </tr>\n",
       "    <tr>\n",
       "      <th>2</th>\n",
       "      <td>citric acid</td>\n",
       "      <td>0.634073</td>\n",
       "    </tr>\n",
       "    <tr>\n",
       "      <th>3</th>\n",
       "      <td>residual sugar</td>\n",
       "      <td>0.668661</td>\n",
       "    </tr>\n",
       "    <tr>\n",
       "      <th>4</th>\n",
       "      <td>chlorides</td>\n",
       "      <td>0.660162</td>\n",
       "    </tr>\n",
       "    <tr>\n",
       "      <th>5</th>\n",
       "      <td>free sulfur dioxide</td>\n",
       "      <td>0.669115</td>\n",
       "    </tr>\n",
       "    <tr>\n",
       "      <th>6</th>\n",
       "      <td>total sulfur dioxide</td>\n",
       "      <td>0.634714</td>\n",
       "    </tr>\n",
       "    <tr>\n",
       "      <th>7</th>\n",
       "      <td>density</td>\n",
       "      <td>0.649341</td>\n",
       "    </tr>\n",
       "    <tr>\n",
       "      <th>8</th>\n",
       "      <td>pH</td>\n",
       "      <td>0.667440</td>\n",
       "    </tr>\n",
       "    <tr>\n",
       "      <th>9</th>\n",
       "      <td>sulphates</td>\n",
       "      <td>0.642987</td>\n",
       "    </tr>\n",
       "    <tr>\n",
       "      <th>10</th>\n",
       "      <td>alcohol</td>\n",
       "      <td>0.502152</td>\n",
       "    </tr>\n",
       "  </tbody>\n",
       "</table>\n",
       "</div>"
      ],
      "text/plain": [
       "                 Feature     Error\n",
       "0          fixed acidity  0.655508\n",
       "1       volatile acidity  0.571412\n",
       "2            citric acid  0.634073\n",
       "3         residual sugar  0.668661\n",
       "4              chlorides  0.660162\n",
       "5    free sulfur dioxide  0.669115\n",
       "6   total sulfur dioxide  0.634714\n",
       "7                density  0.649341\n",
       "8                     pH  0.667440\n",
       "9              sulphates  0.642987\n",
       "10               alcohol  0.502152"
      ]
     },
     "execution_count": 8,
     "metadata": {},
     "output_type": "execute_result"
    }
   ],
   "source": [
    "cv = []\n",
    "for feature in x_cols:\n",
    "    X = df[feature]\n",
    "    X_train,X_test,y_train,y_test = train_test_split(X,y_label,random_state=42)\n",
    "    X_train= X_train.values.reshape(-1, 1)\n",
    "    y_train= y_train.values.reshape(-1, 1)\n",
    "    kfold = model_selection.KFold(n_splits=10,shuffle=True,random_state=42)\n",
    "    cv_results = model_selection.cross_val_score(LinearRegression(), X_train, y_train, cv=kfold, scoring='neg_mean_squared_error')\n",
    "    error = abs((cv_results.mean()))\n",
    "    cv.append([feature,error])\n",
    "pred = pd.DataFrame(cv,columns=['Feature','Error'])\n",
    "pred"
   ]
  },
  {
   "cell_type": "markdown",
   "id": "010d6a96",
   "metadata": {},
   "source": [
    "### alcohol có sai số nhỏ nhất => alcohol cho kết quả tốt nhất"
   ]
  },
  {
   "cell_type": "markdown",
   "id": "699d1693",
   "metadata": {},
   "source": [
    "## c. Xây dựng một mô hình riêng"
   ]
  },
  {
   "cell_type": "markdown",
   "id": "3bbc861e",
   "metadata": {},
   "source": [
    "### Xây dựng mô hình RidgeCV sử dụng thuật toán Ridge Regression"
   ]
  },
  {
   "cell_type": "code",
   "execution_count": 9,
   "id": "00050916",
   "metadata": {},
   "outputs": [],
   "source": [
    "from sklearn.linear_model import Ridge, RidgeCV"
   ]
  },
  {
   "cell_type": "code",
   "execution_count": 10,
   "id": "e7eed4d1",
   "metadata": {},
   "outputs": [],
   "source": [
    "X = df[x_cols].values\n",
    "y = df[y_cols].values\n",
    "X_train,X_test,y_train,y_test = train_test_split(X,y_label,random_state=42)"
   ]
  },
  {
   "cell_type": "code",
   "execution_count": 11,
   "id": "71b9919a",
   "metadata": {},
   "outputs": [
    {
     "name": "stdout",
     "output_type": "stream",
     "text": [
      "Error: 0.38449067034336926\n"
     ]
    }
   ],
   "source": [
    "# Khởi tạo dãy alphas\n",
    "alphas = np.logspace(-10, 10, 30)\n",
    "\n",
    "# Khởi tạo mô hình RidgeCV\n",
    "model = RidgeCV(alphas=alphas)\n",
    "model.fit(X_train, y_train)\n",
    "\n",
    "y_pred = model.predict(X_test)\n",
    "rmse = mser(y_test, y_pred)\n",
    "print(\"Error:\", rmse)"
   ]
  },
  {
   "cell_type": "markdown",
   "id": "7ba4fecf",
   "metadata": {},
   "source": [
    "### Tham khảo:\n",
    "#### https://scikit-learn.org/stable/modules/generated/sklearn.model_selection.KFold.html\n",
    "#### https://scikit-learn.org/stable/modules/generated/sklearn.linear_model.Ridge.html\n",
    "#### https://scikit-learn.org/stable/modules/generated/sklearn.linear_model.RidgeCV.html\n",
    "#### https://medium.com/@rishabh_roy/predicting-best-quality-of-wine-using-linear-regression-and-pytorch-a5bda59e43c2"
   ]
  }
 ],
 "metadata": {
  "kernelspec": {
   "display_name": "Python 3 (ipykernel)",
   "language": "python",
   "name": "python3"
  },
  "language_info": {
   "codemirror_mode": {
    "name": "ipython",
    "version": 3
   },
   "file_extension": ".py",
   "mimetype": "text/x-python",
   "name": "python",
   "nbconvert_exporter": "python",
   "pygments_lexer": "ipython3",
   "version": "3.9.12"
  }
 },
 "nbformat": 4,
 "nbformat_minor": 5
}
